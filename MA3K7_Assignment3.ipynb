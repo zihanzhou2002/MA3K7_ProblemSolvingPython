{
 "cells": [
  {
   "cell_type": "markdown",
   "id": "8f41a3d1-a9ad-475f-a060-3ff222af990e",
   "metadata": {
    "tags": []
   },
   "source": [
    "\n",
    "### Hat Numbers\n",
    "\n",
    "A hat contains 2024 pieces of paper numbered 1 through 2024. I draw two pieces of paper at random from the hat. The smaller of the two numbers drawn is subtracted from the larger. That difference is written on a new piece of paper which is placed in the hat, and the two original pieces are discarded. I repeat this process until one piece of paper remains. \n",
    "\n",
    "What can you tell about the final piece of paper?"
   ]
  },
  {
   "cell_type": "code",
   "execution_count": 101,
   "id": "8d2fe179-db5c-4b49-81be-72ff7b4912fa",
   "metadata": {},
   "outputs": [],
   "source": [
    "import numpy as np\n",
    "%matplotlib inline\n",
    "import matplotlib.pyplot as plt\n",
    "from scipy.stats import uniform, norm\n",
    "import seaborn as sns\n",
    "#%matplotlib"
   ]
  },
  {
   "cell_type": "code",
   "execution_count": 171,
   "id": "27ff240c-b155-4057-917d-2d80d8d04c83",
   "metadata": {},
   "outputs": [],
   "source": [
    "hat = np.array([i for i in range(1, 10)])\n",
    "p1 = -1\n",
    "p2 = -1\n",
    "results = set()\n",
    "def HatNumbers():\n",
    "    global hat\n",
    "    global p1\n",
    "    global p2\n",
    "    global results\n",
    "    \n",
    "    rng = np.random.default_rng()\n",
    "    #print(hat)\n",
    "    p1 = rng.choice(hat)\n",
    "    ind = np.where(hat == p1)\n",
    "    \n",
    "    hat = np.delete(hat, ind[0][0])\n",
    " \n",
    "  \n",
    "\n",
    "    rng = np.random.default_rng()\n",
    "    \n",
    "    #print(hat)\n",
    "    p2 = rng.choice(hat)\n",
    "    ind = np.array(np.where(hat == p2))\n",
    "   \n",
    "    hat = np.delete(hat, ind[0][0])\n",
    "   \n",
    "    p_new = abs(p1-p2)\n",
    " \n",
    "    hat = np.append(hat, p_new)\n",
    "    #print(\"-------------------\")\n",
    "    #print(\"Number of elements left:\" ,np.size(hat))\n",
    "    if np.size(hat)> 1:\n",
    "        HatNumbers()\n",
    "    else:\n",
    "        results.add(hat[0])\n",
    "        #print(\"Final hat is:\", hat)\n",
    "        return 0\n",
    "\n",
    "HatNumbers()"
   ]
  },
  {
   "cell_type": "code",
   "execution_count": 179,
   "id": "2fc81a89-bc94-428e-8a1a-0f897fc27472",
   "metadata": {},
   "outputs": [
    {
     "name": "stdout",
     "output_type": "stream",
     "text": [
      "When n = 2, the possible outcomes are {1}\n",
      "When n = 3, the possible outcomes are {0, 2}\n",
      "When n = 4, the possible outcomes are {0, 2, 4}\n",
      "When n = 5, the possible outcomes are {1, 3, 5}\n",
      "When n = 6, the possible outcomes are {1, 3, 5}\n",
      "When n = 7, the possible outcomes are {0, 2, 4, 6}\n",
      "When n = 8, the possible outcomes are {0, 2, 4, 6, 8}\n",
      "When n = 9, the possible outcomes are {1, 3, 5, 7, 9}\n",
      "When n = 10, the possible outcomes are {1, 3, 5, 7, 9}\n",
      "When n = 11, the possible outcomes are {0, 2, 4, 6, 8, 10}\n",
      "When n = 12, the possible outcomes are {0, 2, 4, 6, 8, 10, 12}\n",
      "When n = 13, the possible outcomes are {1, 3, 5, 7, 9, 11, 13}\n",
      "When n = 14, the possible outcomes are {1, 3, 5, 7, 9, 11, 13}\n",
      "When n = 15, the possible outcomes are {0, 2, 4, 6, 8, 10, 12, 14}\n",
      "When n = 16, the possible outcomes are {0, 2, 4, 6, 8, 10, 12, 14, 16}\n",
      "When n = 17, the possible outcomes are {1, 3, 5, 7, 9, 11, 13, 15, 17}\n",
      "When n = 18, the possible outcomes are {1, 3, 5, 7, 9, 11, 13, 15, 17}\n",
      "When n = 19, the possible outcomes are {0, 2, 4, 6, 8, 10, 12, 14, 16, 18}\n",
      "When n = 20, the possible outcomes are {0, 2, 4, 6, 8, 10, 12, 14, 16, 18, 20}\n"
     ]
    }
   ],
   "source": [
    "size = int(1e4)\n",
    "ns = [i for i in range(2, 21)]\n",
    "\n",
    "for n in ns:\n",
    "    results = set()\n",
    "    for i in range(size):\n",
    "        hat = np.array([i for i in range(1, n+1)])\n",
    "        p1 = -1\n",
    "        p2 = -1\n",
    "        HatNumbers()\n",
    "    print(f'When n = {n}, the possible outcomes are {results}')\n",
    "\n"
   ]
  },
  {
   "cell_type": "code",
   "execution_count": 160,
   "id": "7f9a00ec-1be0-4089-902c-10d1f4161de8",
   "metadata": {},
   "outputs": [
    {
     "data": {
      "text/plain": [
       "4500"
      ]
     },
     "execution_count": 160,
     "metadata": {},
     "output_type": "execute_result"
    }
   ],
   "source": [
    "np.count_nonzero(results == 0)"
   ]
  },
  {
   "cell_type": "code",
   "execution_count": 181,
   "id": "0d01514c-fbba-4f46-a346-4d04300f3d17",
   "metadata": {},
   "outputs": [
    {
     "name": "stdout",
     "output_type": "stream",
     "text": [
      "When n = 2024, the possible outcomes are {0, 2, 4, 6, 8, 10, 12, 14, 16, 18, 20, 22, 24, 26, 28, 30, 32, 34, 36, 38, 40, 42, 44, 46, 48, 50, 52, 54, 56, 58, 60, 62, 64, 66, 68, 70, 72, 74, 76, 78, 80, 82, 84, 86, 88, 90, 92, 94, 96, 98, 100, 102, 104, 106, 108, 110, 112, 114, 116, 118, 120, 122, 124, 126, 128, 130, 132, 134, 136, 138, 140, 142, 144, 146, 148, 150, 152, 154, 156, 158, 160, 162, 164, 166, 168, 170, 172, 174, 176, 178, 180, 182, 184, 186, 188, 190, 192, 194, 196, 200, 202, 204, 206, 208, 210, 212, 214, 216, 218, 220, 222, 224, 226, 228, 230, 232, 234, 236, 240, 242, 244, 246, 248, 250, 254, 256, 258, 260, 262, 264, 266, 268, 270, 272, 274, 276, 278, 280, 282, 284, 286, 288, 290, 292, 294, 296, 298, 300, 302, 304, 306, 308, 310, 312, 314, 318, 320, 322, 324, 326, 328, 330, 332, 334, 336, 338, 340, 342, 344, 346, 348, 350, 352, 354, 356, 358, 360, 362, 364, 366, 368, 370, 372, 374, 376, 378, 380, 382, 384, 386, 388, 390, 392, 394, 396, 398, 400, 404, 406, 410, 416, 418, 422, 426, 428, 430, 432, 434, 436, 440, 442, 444, 446, 448, 450, 452, 454, 456, 458, 460, 462, 464, 466, 468, 472, 474, 476, 478, 480, 482, 484, 486, 488, 490, 494, 496, 498, 500, 502, 506, 508, 512, 514, 516, 518, 520, 522, 524, 526, 528, 530, 532, 534, 536, 540, 542, 546, 548, 552, 554, 556, 558, 568, 570, 572, 574, 576, 582, 584, 588, 590, 594, 596, 598, 600, 602, 604, 606, 610, 620, 622, 626, 630, 632, 634, 638, 642, 644, 646, 650, 652, 654, 656, 658, 662, 666, 674, 676, 680, 682, 684, 686, 688, 698, 706, 710, 712, 714, 720, 722, 724, 728, 730, 732, 736, 740, 744, 746, 748, 752, 758, 762, 764, 766, 770, 774, 786, 790, 802, 804, 810, 814, 818, 820, 824, 830, 836, 840, 846, 852, 854, 856, 860, 862, 870, 880, 882, 886, 890, 894, 896, 898, 906, 942, 946, 950, 956, 960, 974, 978, 980, 982, 986, 990, 994, 996, 1000, 1006, 1016, 1022, 1040, 1050, 1062, 1068, 1074, 1080, 1086, 1094, 1100, 1114, 1134, 1142, 1162, 1190, 1208, 1236, 1238, 1240, 1246, 1248, 1256, 1272, 1284, 1306, 1316, 1348, 1420, 1424, 1532, 1626}\n"
     ]
    }
   ],
   "source": [
    "n = 2024\n",
    "size = int(1000)\n",
    "results = set()\n",
    "for i in range(size):\n",
    "    hat = np.array([i for i in range(1, n+1)])\n",
    "    p1 = -1\n",
    "    p2 = -1\n",
    "    HatNumbers()\n",
    "\n",
    "print(f'When n = {n}, the possible outcomes are {results}')"
   ]
  },
  {
   "cell_type": "code",
   "execution_count": 182,
   "id": "c75b501f-4f70-492f-a4a5-8e59258d3f1c",
   "metadata": {},
   "outputs": [],
   "source": [
    "hat = np.array([i for i in range(1, 10)])\n",
    "p1 = -1\n",
    "p2 = -1\n",
    "results = np.array([])\n",
    "def HatNumbers_hist():\n",
    "    global hat\n",
    "    global p1\n",
    "    global p2\n",
    "    global results\n",
    "    \n",
    "    rng = np.random.default_rng()\n",
    "    #print(hat)\n",
    "    p1 = rng.choice(hat)\n",
    "    ind = np.where(hat == p1)\n",
    "    \n",
    "    hat = np.delete(hat, ind[0][0])\n",
    " \n",
    "  \n",
    "\n",
    "    rng = np.random.default_rng()\n",
    "    \n",
    "    #print(hat)\n",
    "    p2 = rng.choice(hat)\n",
    "    ind = np.array(np.where(hat == p2))\n",
    "   \n",
    "    hat = np.delete(hat, ind[0][0])\n",
    "   \n",
    "    p_new = abs(p1-p2)\n",
    " \n",
    "    hat = np.append(hat, p_new)\n",
    "    #print(\"-------------------\")\n",
    "    #print(\"Number of elements left:\" ,np.size(hat))\n",
    "    if np.size(hat)> 1:\n",
    "        HatNumbers_hist()\n",
    "    else:\n",
    "        results = np.append(results,(hat[0]))\n",
    "        #print(\"Final hat is:\", hat)\n",
    "        return 0\n"
   ]
  },
  {
   "cell_type": "code",
   "execution_count": 199,
   "id": "7a95cf18-b797-46e3-8a80-93a3f84a6eff",
   "metadata": {},
   "outputs": [
    {
     "data": {
      "image/png": "[encoded data removed]",
      "text/plain": [
       "<Figure size 864x360 with 2 Axes>"
      ]
     },
     "metadata": {
      "needs_background": "light"
     },
     "output_type": "display_data"
    }
   ],
   "source": [
    "fig,(ax1, ax2)=plt.subplots(1,2,figsize=(12,5))\n",
    "n = 5\n",
    "size = int(10000)\n",
    "results = np.array([])\n",
    "for i in range(size):\n",
    "    hat = np.array([i for i in range(1, n+1)])\n",
    "    p1 = -1\n",
    "    p2 = -1\n",
    "    HatNumbers_hist()\n",
    "    \n",
    "\n",
    "\n",
    "sns.histplot(results, ax=ax1)\n",
    "ax1.set_title(\"n = 5, play 10000 times.\")\n",
    "ax1.set_ylabel('Frequency')\n",
    "ax1.set_xlabel('Final Outcomes')\n",
    "\n",
    "n = 2024\n",
    "size = int(1000)\n",
    "results = np.array([])\n",
    "for i in range(size):\n",
    "    hat = np.array([i for i in range(1, n+1)])\n",
    "    p1 = -1\n",
    "    p2 = -1\n",
    "    HatNumbers_hist()\n",
    "\n",
    "\n",
    "sns.histplot(results, ax=ax2)\n",
    "ax2.set_title(\"n = 2024, play 1000 times.\")\n",
    "ax2.set_ylabel('Frequency')\n",
    "ax2.set_xlabel('Final Outcomes')\n",
    "\n",
    "fig.savefig(\"histogram.png\")\n",
    "plt.show()"
   ]
  },
  {
   "cell_type": "code",
   "execution_count": null,
   "id": "968ee5cd-b05e-4f13-8836-fa2db5477f9d",
   "metadata": {},
   "outputs": [],
   "source": []
  }
 ],
 "metadata": {
  "kernelspec": {
   "display_name": "Python 3 (ipykernel)",
   "language": "python",
   "name": "python3"
  },
  "language_info": {
   "codemirror_mode": {
    "name": "ipython",
    "version": 3
   },
   "file_extension": ".py",
   "mimetype": "text/x-python",
   "name": "python",
   "nbconvert_exporter": "python",
   "pygments_lexer": "ipython3",
   "version": "3.9.7"
  }
 },
 "nbformat": 4,
 "nbformat_minor": 5
}
