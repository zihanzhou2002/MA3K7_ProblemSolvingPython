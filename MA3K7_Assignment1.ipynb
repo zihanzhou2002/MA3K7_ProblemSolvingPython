{
 "cells": [
  {
   "cell_type": "code",
   "execution_count": 1,
   "id": "001b9946-b95d-4243-8f5d-c132318ef3b6",
   "metadata": {},
   "outputs": [],
   "source": [
    "import numpy as np"
   ]
  },
  {
   "cell_type": "code",
   "execution_count": 2,
   "id": "75acd0b8-d351-487c-8f88-e216f4e405c7",
   "metadata": {},
   "outputs": [],
   "source": [
    "# Make a bracelet of length n based on a given pair\n",
    "def MakeBraceletN(pair,N):\n",
    "    bracelet = np.array(pair, dtype = int)\n",
    "    bracelet = np.append(bracelet, (pair[0] + pair[1]) % 10)\n",
    "    \n",
    "    for i in range(2, N-1):\n",
    "        new = (bracelet[-1] + bracelet[-2]) % 10\n",
    "        bracelet = np.append(bracelet, new)\n",
    "    \n",
    "    n = len(bracelet)\n",
    "    return bracelet, n # output the bracelet and its length"
   ]
  },
  {
   "cell_type": "code",
   "execution_count": 3,
   "id": "88886df4-622e-466d-99b2-b4b2f622da7f",
   "metadata": {},
   "outputs": [
    {
     "data": {
      "text/plain": [
       "(array([1, 5, 6, 1, 7, 8, 5, 3, 8, 1, 9, 0, 9, 9, 8, 7, 5, 2, 7, 9, 6, 5,\n",
       "        1, 6, 7, 3, 0, 3, 3, 6, 9, 5, 4, 9, 3, 2, 5, 7, 2, 9, 1, 0, 1, 1,\n",
       "        2, 3, 5, 8, 3, 1, 4, 5, 9, 4, 3, 7, 0, 7, 7, 4, 1, 5, 6, 1, 7, 8,\n",
       "        5, 3, 8, 1]),\n",
       " 70)"
      ]
     },
     "execution_count": 3,
     "metadata": {},
     "output_type": "execute_result"
    }
   ],
   "source": [
    "MakeBraceletN([1,5] , 70)"
   ]
  },
  {
   "cell_type": "code",
   "execution_count": 4,
   "id": "ed19b7b6-1048-4eb4-86fd-556a97124746",
   "metadata": {},
   "outputs": [],
   "source": [
    "# Make a non-repeating bracelet based on a given pair\n",
    "def MakeBracelet(pair):\n",
    "    bracelet = np.array(pair)\n",
    "    bracelet = np.append(bracelet, (pair[0] + pair[1]) % 10)\n",
    "    \n",
    "    while bracelet[-1] != pair[1] or bracelet[-2] != pair[0]:\n",
    "        new = (bracelet[-1] + bracelet[-2]) % 10\n",
    "        bracelet = np.append(bracelet, new)\n",
    "    \n",
    "    n = len(bracelet)\n",
    "    return bracelet, n # output the bracelet and its length"
   ]
  },
  {
   "cell_type": "code",
   "execution_count": 5,
   "id": "378bf4d3-1908-4252-966c-68201a34d0ea",
   "metadata": {},
   "outputs": [
    {
     "name": "stdout",
     "output_type": "stream",
     "text": [
      "[1 5 6 1 7 8 5 3 8 1 9 0 9 9 8 7 5 2 7 9 6 5 1 6 7 3 0 3 3 6 9 5 4 9 3 2 5\n",
      " 7 2 9 1 0 1 1 2 3 5 8 3 1 4 5 9 4 3 7 0 7 7 4 1 5]\n",
      "62\n"
     ]
    }
   ],
   "source": [
    "A,leng = MakeBracelet([1,5])\n",
    "print(A)\n",
    "print(leng)"
   ]
  },
  {
   "cell_type": "code",
   "execution_count": 6,
   "id": "8f62a957-dfc4-4af1-b5f9-f7f19a578cc0",
   "metadata": {},
   "outputs": [],
   "source": [
    "# Check whether a pair occurs in a bracelet\n",
    "def PairInBracelet(pair, bracelet):\n",
    "    n = len(bracelet)\n",
    "    for i in range(n-1):\n",
    "        if pair[0] == bracelet[i] and pair[1] == bracelet[i+1]:\n",
    "            return True\n",
    "    \n",
    "    return False\n"
   ]
  },
  {
   "cell_type": "code",
   "execution_count": 7,
   "id": "0d1863ee-a897-4644-859f-34d3ae247ac1",
   "metadata": {},
   "outputs": [
    {
     "data": {
      "text/plain": [
       "True"
      ]
     },
     "execution_count": 7,
     "metadata": {},
     "output_type": "execute_result"
    }
   ],
   "source": [
    "PairInBracelet([0,7], A)"
   ]
  },
  {
   "cell_type": "code",
   "execution_count": 8,
   "id": "55c541d3-1560-491b-a134-56b69074c782",
   "metadata": {},
   "outputs": [
    {
     "data": {
      "text/plain": [
       "False"
      ]
     },
     "execution_count": 8,
     "metadata": {},
     "output_type": "execute_result"
    }
   ],
   "source": [
    "PairInBracelet([0,0], A)"
   ]
  },
  {
   "cell_type": "code",
   "execution_count": 9,
   "id": "568dc79b-6504-4f6f-87a5-7a2fae366b3f",
   "metadata": {},
   "outputs": [],
   "source": [
    "def MakeAllPairs():\n",
    "    allPairs = np.zeros((100,2))\n",
    "    availPairs = np.ones(100) # Make a parallel array showing whether a pair is available. Initialize to 1s.\n",
    "    \n",
    "    for i in range(10):\n",
    "        allPairs[10*i:10*(i+1),0] = i\n",
    "    \n",
    "    for i in range(10):\n",
    "        for j in range(10):\n",
    "            allPairs[i+10*j, 1] = i\n",
    "    \n",
    "    return allPairs, availPairs        \n",
    "\n",
    "allPairs, availPairs = MakeAllPairs()\n"
   ]
  },
  {
   "cell_type": "code",
   "execution_count": 10,
   "id": "73c354fb-b3df-4157-844f-9117933dc403",
   "metadata": {},
   "outputs": [
    {
     "name": "stdout",
     "output_type": "stream",
     "text": [
      "Bracelet  1 :  [1 5 6 1 7 8 5 3 8 1 9 0 9 9 8 7 5 2 7 9 6 5 1 6 7 3 0 3 3 6 9 5 4 9 3 2 5\n",
      " 7 2 9 1 0 1 1 2 3 5 8 3 1 4 5 9 4 3 7 0 7 7 4 1 5] \n",
      "Length: 62\n",
      "Bracelet  2 :  [0 0 0] \n",
      "Length: 3\n",
      "Bracelet  3 :  [0 2 2 4 6 0 6 6 2 8 0 8 8 6 4 0 4 4 8 2 0 2] \n",
      "Length: 22\n",
      "Bracelet  4 :  [0 5 5 0 5] \n",
      "Length: 5\n",
      "Bracelet  5 :  [1 3 4 7 1 8 9 7 6 3 9 2 1 3] \n",
      "Length: 14\n",
      "Bracelet  6 :  [2 6 8 4 2 6] \n",
      "Length: 6\n",
      "There are 6 bracelets in total.\n"
     ]
    }
   ],
   "source": [
    "def AllBracelets(pair):\n",
    "    \n",
    "    allPairs, availPairs = MakeAllPairs() # Create a 100*2 array of 100 indices\n",
    "    count = 0 # Counts the number of possible bracelets\n",
    "    \n",
    "    while True:\n",
    "        bracelet, length = MakeBracelet(pair) # make a bracelet using a given pair\n",
    "        count += 1\n",
    "        print(\"Bracelet \", count, \": \", bracelet , \"\\nLength: \" + str(length))\n",
    "        # Rule out the pairs that showed up in this new bracelet\n",
    "        for i in range(100):\n",
    "            if PairInBracelet(allPairs[i], bracelet) == True:\n",
    "                availPairs[i] = 0\n",
    "        \n",
    "        if np.any(availPairs) == False: # Stop if there is no available pair\n",
    "            break\n",
    "        else:\n",
    "            indices = np.ravel(np.argwhere(availPairs == 1)) # Find the indices of non-zero elements in availPairs\n",
    "            index = indices[0] # Select the smallest index\n",
    "            pair = np.array(allPairs[index],dtype = int) # Select the corresponding pair and use it to make the next bracelet\n",
    "            \n",
    "    print(\"There are \" + str(count) + \" bracelets in total.\")\n",
    "    \n",
    "AllBracelets([1,5])   "
   ]
  },
  {
   "cell_type": "code",
   "execution_count": 11,
   "id": "7cccb891-d10d-44e7-bbd1-24334fe74616",
   "metadata": {},
   "outputs": [
    {
     "name": "stdout",
     "output_type": "stream",
     "text": [
      "Bracelet  1 :  [2 4 6 0 6 6 2 8 0 8 8 6 4 0 4 4 8 2 0 2 2 4] \n",
      "Length: 22\n",
      "Bracelet  2 :  [0 0 0] \n",
      "Length: 3\n",
      "Bracelet  3 :  [0 1 1 2 3 5 8 3 1 4 5 9 4 3 7 0 7 7 4 1 5 6 1 7 8 5 3 8 1 9 0 9 9 8 7 5 2\n",
      " 7 9 6 5 1 6 7 3 0 3 3 6 9 5 4 9 3 2 5 7 2 9 1 0 1] \n",
      "Length: 62\n",
      "Bracelet  4 :  [0 5 5 0 5] \n",
      "Length: 5\n",
      "Bracelet  5 :  [1 3 4 7 1 8 9 7 6 3 9 2 1 3] \n",
      "Length: 14\n",
      "Bracelet  6 :  [2 6 8 4 2 6] \n",
      "Length: 6\n",
      "There are 6 bracelets in total.\n"
     ]
    }
   ],
   "source": [
    "AllBracelets([2,4]) "
   ]
  },
  {
   "cell_type": "code",
   "execution_count": 12,
   "id": "98769194-5786-4434-ac3b-f929f4209dcd",
   "metadata": {},
   "outputs": [
    {
     "data": {
      "text/plain": [
       "100"
      ]
     },
     "execution_count": 12,
     "metadata": {},
     "output_type": "execute_result"
    }
   ],
   "source": [
    "# Number of all pairs\n",
    "\n",
    "(62-2) + (3-2) + (22-2) + (5-2) + (14-2) + (6-2)"
   ]
  },
  {
   "cell_type": "code",
   "execution_count": 13,
   "id": "496d64fe-74bc-413d-939b-86c1ffabce16",
   "metadata": {},
   "outputs": [
    {
     "name": "stdout",
     "output_type": "stream",
     "text": [
      "Number of pairs appearing in the bracelets is  100\n"
     ]
    }
   ],
   "source": [
    "# Check that every pair appears onece and only once\n",
    "\n",
    "b1,l1 = MakeBracelet([1, 5])\n",
    "b2,l2 = MakeBracelet([0, 0])\n",
    "b3,l3 = MakeBracelet([0, 2])\n",
    "b4,l4 = MakeBracelet([0, 5])\n",
    "b5,l5 = MakeBracelet([1, 3])\n",
    "b6,l6 = MakeBracelet([2, 6])\n",
    "\n",
    "print(\"Number of pairs appearing in the bracelets is \", l1+l2+l3+l4+l5+l6 - 6*2)"
   ]
  },
  {
   "cell_type": "code",
   "execution_count": 14,
   "id": "df1e6afe-7bc3-4b60-82a1-2c7bf1e1b44b",
   "metadata": {},
   "outputs": [
    {
     "name": "stdout",
     "output_type": "stream",
     "text": [
      "[1. 1. 1. 1. 1. 1. 1. 1. 1. 1. 1. 1. 1. 1. 1. 1. 1. 1. 1. 1. 1. 1. 1. 1.\n",
      " 1. 1. 1. 1. 1. 1. 1. 1. 1. 1. 1. 1. 1. 1. 1. 1. 1. 1. 1. 1. 1. 1. 1. 1.\n",
      " 1. 1. 1. 1. 1. 1. 1. 1. 1. 1. 1. 1. 1. 1. 1. 1. 1. 1. 1. 1. 1. 1. 1. 1.\n",
      " 1. 1. 1. 1. 1. 1. 1. 1. 1. 1. 1. 1. 1. 1. 1. 1. 1. 1. 1. 1. 1. 1. 1. 1.\n",
      " 1. 1. 1. 1.]\n"
     ]
    }
   ],
   "source": [
    "allPairs,_ = MakeAllPairs()\n",
    "appear = np.zeros(100)\n",
    "for i in range(100):\n",
    "    if PairInBracelet(allPairs[i], b1):\n",
    "        appear[i] += 1\n",
    "    if PairInBracelet(allPairs[i], b2):\n",
    "        appear[i] += 1\n",
    "    if PairInBracelet(allPairs[i], b3):\n",
    "        appear[i] += 1\n",
    "    if PairInBracelet(allPairs[i], b4):\n",
    "        appear[i] += 1\n",
    "    if PairInBracelet(allPairs[i], b5):\n",
    "        appear[i] += 1\n",
    "    if PairInBracelet(allPairs[i], b6):\n",
    "        appear[i] += 1\n",
    "\n",
    "print(appear)"
   ]
  },
  {
   "cell_type": "code",
   "execution_count": null,
   "id": "b8a7473b-5185-412a-9160-95c09c1b9144",
   "metadata": {},
   "outputs": [],
   "source": []
  }
 ],
 "metadata": {
  "kernelspec": {
   "display_name": "Python 3 (ipykernel)",
   "language": "python",
   "name": "python3"
  },
  "language_info": {
   "codemirror_mode": {
    "name": "ipython",
    "version": 3
   },
   "file_extension": ".py",
   "mimetype": "text/x-python",
   "name": "python",
   "nbconvert_exporter": "python",
   "pygments_lexer": "ipython3",
   "version": "3.9.7"
  }
 },
 "nbformat": 4,
 "nbformat_minor": 5
}
